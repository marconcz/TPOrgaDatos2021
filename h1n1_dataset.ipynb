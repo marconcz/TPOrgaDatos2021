{
 "cells": [
  {
   "cell_type": "code",
   "execution_count": 1,
   "id": "548e5dda",
   "metadata": {},
   "outputs": [],
   "source": [
    "# importacion general de librerias y de visualizacion (matplotlib y seaborn)\n",
    "import pandas as pd\n",
    "import numpy as np\n",
    "import matplotlib.pyplot as plt\n",
    "import seaborn as sns\n",
    "from datetime import datetime\n",
    "\n",
    "%matplotlib inline\n",
    "\n",
    "plt.style.use('default') # haciendo los graficos un poco mas bonitos en matplotlib\n",
    "#plt.rcParams['figure.figsize'] = (20, 10)\n",
    "\n",
    "sns.set(style=\"whitegrid\") # seteando tipo de grid en seaborn\n",
    "\n",
    "pd.options.display.float_format = '{:20,.2f}'.format # suprimimos la notacion cientifica en los outputs\n",
    "\n",
    "import warnings\n",
    "warnings.filterwarnings('ignore')"
   ]
  },
  {
   "cell_type": "code",
   "execution_count": 2,
   "id": "0ce1625a",
   "metadata": {},
   "outputs": [],
   "source": [
    "vaccines = pd.read_csv(\"training_H1n1.csv\")"
   ]
  },
  {
   "cell_type": "code",
   "execution_count": 3,
   "id": "943b9e91",
   "metadata": {},
   "outputs": [
    {
     "data": {
      "text/html": [
       "<div>\n",
       "<style scoped>\n",
       "    .dataframe tbody tr th:only-of-type {\n",
       "        vertical-align: middle;\n",
       "    }\n",
       "\n",
       "    .dataframe tbody tr th {\n",
       "        vertical-align: top;\n",
       "    }\n",
       "\n",
       "    .dataframe thead th {\n",
       "        text-align: right;\n",
       "    }\n",
       "</style>\n",
       "<table border=\"1\" class=\"dataframe\">\n",
       "  <thead>\n",
       "    <tr style=\"text-align: right;\">\n",
       "      <th></th>\n",
       "      <th>respondent_id</th>\n",
       "      <th>h1n1_concern</th>\n",
       "      <th>h1n1_knowledge</th>\n",
       "      <th>behavioral_antiviral_meds</th>\n",
       "      <th>behavioral_avoidance</th>\n",
       "      <th>behavioral_face_mask</th>\n",
       "      <th>behavioral_wash_hands</th>\n",
       "      <th>behavioral_large_gatherings</th>\n",
       "      <th>behavioral_outside_home</th>\n",
       "      <th>behavioral_touch_face</th>\n",
       "      <th>...</th>\n",
       "      <th>income_poverty</th>\n",
       "      <th>marital_status</th>\n",
       "      <th>rent_or_own</th>\n",
       "      <th>employment_status</th>\n",
       "      <th>hhs_geo_region</th>\n",
       "      <th>census_msa</th>\n",
       "      <th>household_adults</th>\n",
       "      <th>household_children</th>\n",
       "      <th>employment_industry</th>\n",
       "      <th>employment_occupation</th>\n",
       "    </tr>\n",
       "  </thead>\n",
       "  <tbody>\n",
       "    <tr>\n",
       "      <th>0</th>\n",
       "      <td>0</td>\n",
       "      <td>1.00</td>\n",
       "      <td>0.00</td>\n",
       "      <td>0.00</td>\n",
       "      <td>0.00</td>\n",
       "      <td>0.00</td>\n",
       "      <td>0.00</td>\n",
       "      <td>0.00</td>\n",
       "      <td>1.00</td>\n",
       "      <td>1.00</td>\n",
       "      <td>...</td>\n",
       "      <td>Below Poverty</td>\n",
       "      <td>Not Married</td>\n",
       "      <td>Own</td>\n",
       "      <td>Not in Labor Force</td>\n",
       "      <td>oxchjgsf</td>\n",
       "      <td>Non-MSA</td>\n",
       "      <td>0.00</td>\n",
       "      <td>0.00</td>\n",
       "      <td>NaN</td>\n",
       "      <td>NaN</td>\n",
       "    </tr>\n",
       "    <tr>\n",
       "      <th>1</th>\n",
       "      <td>1</td>\n",
       "      <td>3.00</td>\n",
       "      <td>2.00</td>\n",
       "      <td>0.00</td>\n",
       "      <td>1.00</td>\n",
       "      <td>0.00</td>\n",
       "      <td>1.00</td>\n",
       "      <td>0.00</td>\n",
       "      <td>1.00</td>\n",
       "      <td>1.00</td>\n",
       "      <td>...</td>\n",
       "      <td>Below Poverty</td>\n",
       "      <td>Not Married</td>\n",
       "      <td>Rent</td>\n",
       "      <td>Employed</td>\n",
       "      <td>bhuqouqj</td>\n",
       "      <td>MSA, Not Principle  City</td>\n",
       "      <td>0.00</td>\n",
       "      <td>0.00</td>\n",
       "      <td>pxcmvdjn</td>\n",
       "      <td>xgwztkwe</td>\n",
       "    </tr>\n",
       "    <tr>\n",
       "      <th>2</th>\n",
       "      <td>2</td>\n",
       "      <td>1.00</td>\n",
       "      <td>1.00</td>\n",
       "      <td>0.00</td>\n",
       "      <td>1.00</td>\n",
       "      <td>0.00</td>\n",
       "      <td>0.00</td>\n",
       "      <td>0.00</td>\n",
       "      <td>0.00</td>\n",
       "      <td>0.00</td>\n",
       "      <td>...</td>\n",
       "      <td>&lt;= $75,000, Above Poverty</td>\n",
       "      <td>Not Married</td>\n",
       "      <td>Own</td>\n",
       "      <td>Employed</td>\n",
       "      <td>qufhixun</td>\n",
       "      <td>MSA, Not Principle  City</td>\n",
       "      <td>2.00</td>\n",
       "      <td>0.00</td>\n",
       "      <td>rucpziij</td>\n",
       "      <td>xtkaffoo</td>\n",
       "    </tr>\n",
       "    <tr>\n",
       "      <th>3</th>\n",
       "      <td>3</td>\n",
       "      <td>1.00</td>\n",
       "      <td>1.00</td>\n",
       "      <td>0.00</td>\n",
       "      <td>1.00</td>\n",
       "      <td>0.00</td>\n",
       "      <td>1.00</td>\n",
       "      <td>1.00</td>\n",
       "      <td>0.00</td>\n",
       "      <td>0.00</td>\n",
       "      <td>...</td>\n",
       "      <td>Below Poverty</td>\n",
       "      <td>Not Married</td>\n",
       "      <td>Rent</td>\n",
       "      <td>Not in Labor Force</td>\n",
       "      <td>lrircsnp</td>\n",
       "      <td>MSA, Principle City</td>\n",
       "      <td>0.00</td>\n",
       "      <td>0.00</td>\n",
       "      <td>NaN</td>\n",
       "      <td>NaN</td>\n",
       "    </tr>\n",
       "    <tr>\n",
       "      <th>4</th>\n",
       "      <td>4</td>\n",
       "      <td>2.00</td>\n",
       "      <td>1.00</td>\n",
       "      <td>0.00</td>\n",
       "      <td>1.00</td>\n",
       "      <td>0.00</td>\n",
       "      <td>1.00</td>\n",
       "      <td>1.00</td>\n",
       "      <td>0.00</td>\n",
       "      <td>1.00</td>\n",
       "      <td>...</td>\n",
       "      <td>&lt;= $75,000, Above Poverty</td>\n",
       "      <td>Married</td>\n",
       "      <td>Own</td>\n",
       "      <td>Employed</td>\n",
       "      <td>qufhixun</td>\n",
       "      <td>MSA, Not Principle  City</td>\n",
       "      <td>1.00</td>\n",
       "      <td>0.00</td>\n",
       "      <td>wxleyezf</td>\n",
       "      <td>emcorrxb</td>\n",
       "    </tr>\n",
       "  </tbody>\n",
       "</table>\n",
       "<p>5 rows × 36 columns</p>\n",
       "</div>"
      ],
      "text/plain": [
       "   respondent_id         h1n1_concern       h1n1_knowledge  \\\n",
       "0              0                 1.00                 0.00   \n",
       "1              1                 3.00                 2.00   \n",
       "2              2                 1.00                 1.00   \n",
       "3              3                 1.00                 1.00   \n",
       "4              4                 2.00                 1.00   \n",
       "\n",
       "   behavioral_antiviral_meds  behavioral_avoidance  behavioral_face_mask  \\\n",
       "0                       0.00                  0.00                  0.00   \n",
       "1                       0.00                  1.00                  0.00   \n",
       "2                       0.00                  1.00                  0.00   \n",
       "3                       0.00                  1.00                  0.00   \n",
       "4                       0.00                  1.00                  0.00   \n",
       "\n",
       "   behavioral_wash_hands  behavioral_large_gatherings  \\\n",
       "0                   0.00                         0.00   \n",
       "1                   1.00                         0.00   \n",
       "2                   0.00                         0.00   \n",
       "3                   1.00                         1.00   \n",
       "4                   1.00                         1.00   \n",
       "\n",
       "   behavioral_outside_home  behavioral_touch_face  ...  \\\n",
       "0                     1.00                   1.00  ...   \n",
       "1                     1.00                   1.00  ...   \n",
       "2                     0.00                   0.00  ...   \n",
       "3                     0.00                   0.00  ...   \n",
       "4                     0.00                   1.00  ...   \n",
       "\n",
       "              income_poverty  marital_status  rent_or_own   employment_status  \\\n",
       "0              Below Poverty     Not Married          Own  Not in Labor Force   \n",
       "1              Below Poverty     Not Married         Rent            Employed   \n",
       "2  <= $75,000, Above Poverty     Not Married          Own            Employed   \n",
       "3              Below Poverty     Not Married         Rent  Not in Labor Force   \n",
       "4  <= $75,000, Above Poverty         Married          Own            Employed   \n",
       "\n",
       "   hhs_geo_region                census_msa     household_adults  \\\n",
       "0        oxchjgsf                   Non-MSA                 0.00   \n",
       "1        bhuqouqj  MSA, Not Principle  City                 0.00   \n",
       "2        qufhixun  MSA, Not Principle  City                 2.00   \n",
       "3        lrircsnp       MSA, Principle City                 0.00   \n",
       "4        qufhixun  MSA, Not Principle  City                 1.00   \n",
       "\n",
       "    household_children  employment_industry  employment_occupation  \n",
       "0                 0.00                  NaN                    NaN  \n",
       "1                 0.00             pxcmvdjn               xgwztkwe  \n",
       "2                 0.00             rucpziij               xtkaffoo  \n",
       "3                 0.00                  NaN                    NaN  \n",
       "4                 0.00             wxleyezf               emcorrxb  \n",
       "\n",
       "[5 rows x 36 columns]"
      ]
     },
     "execution_count": 3,
     "metadata": {},
     "output_type": "execute_result"
    }
   ],
   "source": [
    "vaccines.head()"
   ]
  },
  {
   "cell_type": "code",
   "execution_count": 7,
   "id": "f4de4e07",
   "metadata": {},
   "outputs": [],
   "source": [
    "train = pd.read_csv(\"training_set_labels.csv\")"
   ]
  },
  {
   "cell_type": "code",
   "execution_count": 21,
   "id": "887aef8f",
   "metadata": {},
   "outputs": [],
   "source": [
    "vacunados_por_sexo = vaccines[[\"respondent_id\",\"sex\"]].merge(train,on=\"respondent_id\")"
   ]
  },
  {
   "cell_type": "code",
   "execution_count": 32,
   "id": "e98072fe",
   "metadata": {},
   "outputs": [],
   "source": [
    "vacunados_por_sexo = vacunados_por_sexo.groupby(\"sex\").sum()"
   ]
  },
  {
   "cell_type": "code",
   "execution_count": 34,
   "id": "975d2327",
   "metadata": {},
   "outputs": [],
   "source": [
    "vacunados_por_sexo = vacunados_por_sexo.reset_index()"
   ]
  },
  {
   "cell_type": "code",
   "execution_count": 24,
   "id": "1af86e3a",
   "metadata": {},
   "outputs": [],
   "source": [
    "vacunados_por_sexo = vacunados_por_sexo[[\"sex\",\"h1n1_vaccine\"]]"
   ]
  },
  {
   "cell_type": "code",
   "execution_count": 35,
   "id": "91c0fdc9",
   "metadata": {},
   "outputs": [
    {
     "data": {
      "text/html": [
       "<div>\n",
       "<style scoped>\n",
       "    .dataframe tbody tr th:only-of-type {\n",
       "        vertical-align: middle;\n",
       "    }\n",
       "\n",
       "    .dataframe tbody tr th {\n",
       "        vertical-align: top;\n",
       "    }\n",
       "\n",
       "    .dataframe thead th {\n",
       "        text-align: right;\n",
       "    }\n",
       "</style>\n",
       "<table border=\"1\" class=\"dataframe\">\n",
       "  <thead>\n",
       "    <tr style=\"text-align: right;\">\n",
       "      <th></th>\n",
       "      <th>sex</th>\n",
       "      <th>h1n1_vaccine</th>\n",
       "    </tr>\n",
       "  </thead>\n",
       "  <tbody>\n",
       "    <tr>\n",
       "      <th>0</th>\n",
       "      <td>Female</td>\n",
       "      <td>3480</td>\n",
       "    </tr>\n",
       "    <tr>\n",
       "      <th>1</th>\n",
       "      <td>Male</td>\n",
       "      <td>2194</td>\n",
       "    </tr>\n",
       "  </tbody>\n",
       "</table>\n",
       "</div>"
      ],
      "text/plain": [
       "      sex  h1n1_vaccine\n",
       "0  Female          3480\n",
       "1    Male          2194"
      ]
     },
     "execution_count": 35,
     "metadata": {},
     "output_type": "execute_result"
    }
   ],
   "source": [
    "vacunados_por_sexo.head(100)"
   ]
  },
  {
   "cell_type": "code",
   "execution_count": 51,
   "id": "a5b9fa6f",
   "metadata": {},
   "outputs": [
    {
     "data": {
      "image/png": "[encoded data removed]",
      "text/plain": [
       "<Figure size 640x480 with 1 Axes>"
      ]
     },
     "metadata": {},
     "output_type": "display_data"
    }
   ],
   "source": [
    "ax = sns.barplot(x = \"sex\",\n",
    "                 y = \"h1n1_vaccine\",\n",
    "                 data = vacunados_por_sexo,\n",
    "                 hue=\"sex\",\n",
    "                 palette=\"bright\"\n",
    "                 )\\\n",
    "                .set(title='Cantidad contra H1N1 vacunados por sexo',\n",
    "                    ylabel='Personas vacunadas',\n",
    "                    xlabel='Sexo')"
   ]
  },
  {
   "cell_type": "code",
   "execution_count": 64,
   "id": "9d7d0953",
   "metadata": {},
   "outputs": [],
   "source": [
    "vacunados_preocupacion = vaccines[[\"h1n1_concern\",\"respondent_id\"]].merge(train,on=\"respondent_id\")"
   ]
  },
  {
   "cell_type": "code",
   "execution_count": 65,
   "id": "37d75a31",
   "metadata": {},
   "outputs": [],
   "source": [
    "vacunados_preocupacion = vacunados_preocupacion[[\"h1n1_concern\",\"h1n1_vaccine\"]]"
   ]
  },
  {
   "cell_type": "code",
   "execution_count": 66,
   "id": "819f40d0",
   "metadata": {},
   "outputs": [
    {
     "data": {
      "text/html": [
       "<div>\n",
       "<style scoped>\n",
       "    .dataframe tbody tr th:only-of-type {\n",
       "        vertical-align: middle;\n",
       "    }\n",
       "\n",
       "    .dataframe tbody tr th {\n",
       "        vertical-align: top;\n",
       "    }\n",
       "\n",
       "    .dataframe thead th {\n",
       "        text-align: right;\n",
       "    }\n",
       "</style>\n",
       "<table border=\"1\" class=\"dataframe\">\n",
       "  <thead>\n",
       "    <tr style=\"text-align: right;\">\n",
       "      <th></th>\n",
       "      <th>h1n1_concern</th>\n",
       "      <th>h1n1_vaccine</th>\n",
       "    </tr>\n",
       "  </thead>\n",
       "  <tbody>\n",
       "    <tr>\n",
       "      <th>0</th>\n",
       "      <td>1.00</td>\n",
       "      <td>0</td>\n",
       "    </tr>\n",
       "    <tr>\n",
       "      <th>1</th>\n",
       "      <td>3.00</td>\n",
       "      <td>0</td>\n",
       "    </tr>\n",
       "    <tr>\n",
       "      <th>2</th>\n",
       "      <td>1.00</td>\n",
       "      <td>0</td>\n",
       "    </tr>\n",
       "    <tr>\n",
       "      <th>3</th>\n",
       "      <td>1.00</td>\n",
       "      <td>0</td>\n",
       "    </tr>\n",
       "    <tr>\n",
       "      <th>4</th>\n",
       "      <td>2.00</td>\n",
       "      <td>0</td>\n",
       "    </tr>\n",
       "  </tbody>\n",
       "</table>\n",
       "</div>"
      ],
      "text/plain": [
       "          h1n1_concern  h1n1_vaccine\n",
       "0                 1.00             0\n",
       "1                 3.00             0\n",
       "2                 1.00             0\n",
       "3                 1.00             0\n",
       "4                 2.00             0"
      ]
     },
     "execution_count": 66,
     "metadata": {},
     "output_type": "execute_result"
    }
   ],
   "source": [
    "vacunados_preocupacion.head()"
   ]
  },
  {
   "cell_type": "code",
   "execution_count": 94,
   "id": "d14a5812",
   "metadata": {},
   "outputs": [],
   "source": [
    "vacunados_preocupacion = vacunados_preocupacion[vacunados_preocupacion[\"h1n1_vaccine\"]==1]"
   ]
  },
  {
   "cell_type": "code",
   "execution_count": 102,
   "id": "44eb823e",
   "metadata": {},
   "outputs": [
    {
     "data": {
      "text/plain": [
       "[Text(0.5, 1.0, 'Preocupacion de los vacunados contra H1N1 '),\n",
       " Text(0, 0.5, 'Probabilidad de tener ese nivel'),\n",
       " Text(0.5, 0, 'Nivel de Preocupacion')]"
      ]
     },
     "execution_count": 102,
     "metadata": {},
     "output_type": "execute_result"
    },
    {
     "data": {
      "image/png": "[encoded data removed]",
      "text/plain": [
       "<Figure size 640x480 with 1 Axes>"
      ]
     },
     "metadata": {},
     "output_type": "display_data"
    }
   ],
   "source": [
    "sns.histplot(data=vacunados_preocupacion, x=\"h1n1_concern\", stat=\"probability\", discrete=True,color=\"blue\",alpha=0.7)\\\n",
    "            .set(title='Preocupacion de los vacunados contra H1N1 ',\n",
    "                 ylabel='Probabilidad de tener ese nivel',\n",
    "                 xlabel='Nivel de Preocupacion')\n"
   ]
  },
  {
   "cell_type": "code",
   "execution_count": null,
   "id": "f553e934",
   "metadata": {},
   "outputs": [],
   "source": []
  }
 ],
 "metadata": {
  "kernelspec": {
   "display_name": "Python 3",
   "language": "python",
   "name": "python3"
  },
  "language_info": {
   "codemirror_mode": {
    "name": "ipython",
    "version": 3
   },
   "file_extension": ".py",
   "mimetype": "text/x-python",
   "name": "python",
   "nbconvert_exporter": "python",
   "pygments_lexer": "ipython3",
   "version": "3.8.8"
  }
 },
 "nbformat": 4,
 "nbformat_minor": 5
}
