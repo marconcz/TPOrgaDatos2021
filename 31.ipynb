{
 "cells": [
  {
   "cell_type": "code",
   "execution_count": 2,
   "id": "0e0afc08",
   "metadata": {},
   "outputs": [],
   "source": [
    "# importacion general de librerias y de visualizacion (matplotlib y seaborn)\n",
    "import pandas as pd\n",
    "import numpy as np\n",
    "import matplotlib.pyplot as plt\n",
    "import seaborn as sns\n",
    "\n",
    "%matplotlib inline\n",
    "\n",
    "plt.style.use('default') # haciendo los graficos un poco mas bonitos en matplotlib\n",
    "#plt.rcParams['figure.figsize'] = (20, 10)\n",
    "\n",
    "sns.set(style=\"whitegrid\") # seteando tipo de grid en seaborn\n",
    "\n",
    "pd.options.display.float_format = '{:20,.2f}'.format # suprimimos la notacion cientifica en los outputs\n",
    "\n",
    "import warnings\n",
    "warnings.filterwarnings('ignore')"
   ]
  },
  {
   "cell_type": "code",
   "execution_count": 3,
   "id": "0e0cf6a0",
   "metadata": {},
   "outputs": [],
   "source": [
    "from datetime import datetime"
   ]
  },
  {
   "cell_type": "code",
   "execution_count": 4,
   "id": "4970c6f1",
   "metadata": {},
   "outputs": [],
   "source": [
    "log = pd.read_csv(\"logs.csv\")"
   ]
  },
  {
   "cell_type": "code",
   "execution_count": 5,
   "id": "fce2acfb",
   "metadata": {},
   "outputs": [],
   "source": [
    "languages = pd.read_csv(\"languages.csv\")"
   ]
  },
  {
   "cell_type": "code",
   "execution_count": 6,
   "id": "f90c4d70",
   "metadata": {},
   "outputs": [
    {
     "data": {
      "text/html": [
       "<div>\n",
       "<style scoped>\n",
       "    .dataframe tbody tr th:only-of-type {\n",
       "        vertical-align: middle;\n",
       "    }\n",
       "\n",
       "    .dataframe tbody tr th {\n",
       "        vertical-align: top;\n",
       "    }\n",
       "\n",
       "    .dataframe thead th {\n",
       "        text-align: right;\n",
       "    }\n",
       "</style>\n",
       "<table border=\"1\" class=\"dataframe\">\n",
       "  <thead>\n",
       "    <tr style=\"text-align: right;\">\n",
       "      <th></th>\n",
       "      <th>item_id</th>\n",
       "      <th>timestamp</th>\n",
       "      <th>contributor_username</th>\n",
       "      <th>contributor_id</th>\n",
       "      <th>contributor_ip</th>\n",
       "      <th>comment</th>\n",
       "      <th>logtype</th>\n",
       "      <th>action</th>\n",
       "      <th>title</th>\n",
       "    </tr>\n",
       "  </thead>\n",
       "  <tbody>\n",
       "    <tr>\n",
       "      <th>0</th>\n",
       "      <td>1</td>\n",
       "      <td>2004-12-23T07:10:09Z</td>\n",
       "      <td>Sabbut</td>\n",
       "      <td>2,075.00</td>\n",
       "      <td>NaN</td>\n",
       "      <td>el contenido era: 'Si aprendés Pensamiento Cie...</td>\n",
       "      <td>delete</td>\n",
       "      <td>delete</td>\n",
       "      <td>Verificacionismo</td>\n",
       "    </tr>\n",
       "    <tr>\n",
       "      <th>1</th>\n",
       "      <td>2</td>\n",
       "      <td>2004-12-23T07:14:09Z</td>\n",
       "      <td>Sabbut</td>\n",
       "      <td>2,075.00</td>\n",
       "      <td>NaN</td>\n",
       "      <td>el contenido era: '{{destruir}}en algun lugar ...</td>\n",
       "      <td>delete</td>\n",
       "      <td>delete</td>\n",
       "      <td>Rapunzel</td>\n",
       "    </tr>\n",
       "    <tr>\n",
       "      <th>2</th>\n",
       "      <td>3</td>\n",
       "      <td>2004-12-23T07:26:10Z</td>\n",
       "      <td>Sabbut</td>\n",
       "      <td>2,075.00</td>\n",
       "      <td>NaN</td>\n",
       "      <td>el contenido era: '#REDIRECT [[Flash]]'</td>\n",
       "      <td>delete</td>\n",
       "      <td>delete</td>\n",
       "      <td>Macromedia Flash</td>\n",
       "    </tr>\n",
       "    <tr>\n",
       "      <th>3</th>\n",
       "      <td>4</td>\n",
       "      <td>2004-12-23T07:55:09Z</td>\n",
       "      <td>Sanbec</td>\n",
       "      <td>7,856.00</td>\n",
       "      <td>NaN</td>\n",
       "      <td>Sin información de origen ni de licencia. Hay ...</td>\n",
       "      <td>delete</td>\n",
       "      <td>delete</td>\n",
       "      <td>Archivo:Gnu head.png</td>\n",
       "    </tr>\n",
       "    <tr>\n",
       "      <th>4</th>\n",
       "      <td>5</td>\n",
       "      <td>2004-12-23T08:02:22Z</td>\n",
       "      <td>Sanbec</td>\n",
       "      <td>7,856.00</td>\n",
       "      <td>NaN</td>\n",
       "      <td>Sustituida por  [[commons:Image:Heckert_GNU.png]]</td>\n",
       "      <td>delete</td>\n",
       "      <td>delete</td>\n",
       "      <td>Archivo:Gnu-head-sm.jpg</td>\n",
       "    </tr>\n",
       "  </tbody>\n",
       "</table>\n",
       "</div>"
      ],
      "text/plain": [
       "   item_id             timestamp contributor_username       contributor_id  \\\n",
       "0        1  2004-12-23T07:10:09Z               Sabbut             2,075.00   \n",
       "1        2  2004-12-23T07:14:09Z               Sabbut             2,075.00   \n",
       "2        3  2004-12-23T07:26:10Z               Sabbut             2,075.00   \n",
       "3        4  2004-12-23T07:55:09Z               Sanbec             7,856.00   \n",
       "4        5  2004-12-23T08:02:22Z               Sanbec             7,856.00   \n",
       "\n",
       "  contributor_ip                                            comment logtype  \\\n",
       "0            NaN  el contenido era: 'Si aprendés Pensamiento Cie...  delete   \n",
       "1            NaN  el contenido era: '{{destruir}}en algun lugar ...  delete   \n",
       "2            NaN            el contenido era: '#REDIRECT [[Flash]]'  delete   \n",
       "3            NaN  Sin información de origen ni de licencia. Hay ...  delete   \n",
       "4            NaN  Sustituida por  [[commons:Image:Heckert_GNU.png]]  delete   \n",
       "\n",
       "   action                    title  \n",
       "0  delete         Verificacionismo  \n",
       "1  delete                 Rapunzel  \n",
       "2  delete         Macromedia Flash  \n",
       "3  delete     Archivo:Gnu head.png  \n",
       "4  delete  Archivo:Gnu-head-sm.jpg  "
      ]
     },
     "execution_count": 6,
     "metadata": {},
     "output_type": "execute_result"
    }
   ],
   "source": [
    "log.head()"
   ]
  },
  {
   "cell_type": "code",
   "execution_count": 7,
   "id": "0d85282d",
   "metadata": {},
   "outputs": [
    {
     "name": "stdout",
     "output_type": "stream",
     "text": [
      "<class 'pandas.core.frame.DataFrame'>\n",
      "RangeIndex: 12188946 entries, 0 to 12188945\n",
      "Data columns (total 9 columns):\n",
      " #   Column                Dtype  \n",
      "---  ------                -----  \n",
      " 0   item_id               int64  \n",
      " 1   timestamp             object \n",
      " 2   contributor_username  object \n",
      " 3   contributor_id        float64\n",
      " 4   contributor_ip        object \n",
      " 5   comment               object \n",
      " 6   logtype               object \n",
      " 7   action                object \n",
      " 8   title                 object \n",
      "dtypes: float64(1), int64(1), object(7)\n",
      "memory usage: 836.9+ MB\n"
     ]
    }
   ],
   "source": [
    "#Reviso que tipo de datos manejo para Timestamp\n",
    "log.info()"
   ]
  },
  {
   "cell_type": "code",
   "execution_count": 8,
   "id": "dd5b4835",
   "metadata": {},
   "outputs": [],
   "source": [
    "#Trunco la fecha y la paso a datetime\n",
    "log[\"timestamp\"]=log[\"timestamp\"].astype(str).apply(lambda x: x[0:10])"
   ]
  },
  {
   "cell_type": "code",
   "execution_count": 9,
   "id": "5c961cdf",
   "metadata": {},
   "outputs": [
    {
     "data": {
      "text/html": [
       "<div>\n",
       "<style scoped>\n",
       "    .dataframe tbody tr th:only-of-type {\n",
       "        vertical-align: middle;\n",
       "    }\n",
       "\n",
       "    .dataframe tbody tr th {\n",
       "        vertical-align: top;\n",
       "    }\n",
       "\n",
       "    .dataframe thead th {\n",
       "        text-align: right;\n",
       "    }\n",
       "</style>\n",
       "<table border=\"1\" class=\"dataframe\">\n",
       "  <thead>\n",
       "    <tr style=\"text-align: right;\">\n",
       "      <th></th>\n",
       "      <th>item_id</th>\n",
       "      <th>timestamp</th>\n",
       "      <th>contributor_username</th>\n",
       "      <th>contributor_id</th>\n",
       "      <th>contributor_ip</th>\n",
       "      <th>comment</th>\n",
       "      <th>logtype</th>\n",
       "      <th>action</th>\n",
       "      <th>title</th>\n",
       "    </tr>\n",
       "  </thead>\n",
       "  <tbody>\n",
       "    <tr>\n",
       "      <th>0</th>\n",
       "      <td>1</td>\n",
       "      <td>2004-12-23</td>\n",
       "      <td>Sabbut</td>\n",
       "      <td>2,075.00</td>\n",
       "      <td>NaN</td>\n",
       "      <td>el contenido era: 'Si aprendés Pensamiento Cie...</td>\n",
       "      <td>delete</td>\n",
       "      <td>delete</td>\n",
       "      <td>Verificacionismo</td>\n",
       "    </tr>\n",
       "    <tr>\n",
       "      <th>1</th>\n",
       "      <td>2</td>\n",
       "      <td>2004-12-23</td>\n",
       "      <td>Sabbut</td>\n",
       "      <td>2,075.00</td>\n",
       "      <td>NaN</td>\n",
       "      <td>el contenido era: '{{destruir}}en algun lugar ...</td>\n",
       "      <td>delete</td>\n",
       "      <td>delete</td>\n",
       "      <td>Rapunzel</td>\n",
       "    </tr>\n",
       "    <tr>\n",
       "      <th>2</th>\n",
       "      <td>3</td>\n",
       "      <td>2004-12-23</td>\n",
       "      <td>Sabbut</td>\n",
       "      <td>2,075.00</td>\n",
       "      <td>NaN</td>\n",
       "      <td>el contenido era: '#REDIRECT [[Flash]]'</td>\n",
       "      <td>delete</td>\n",
       "      <td>delete</td>\n",
       "      <td>Macromedia Flash</td>\n",
       "    </tr>\n",
       "    <tr>\n",
       "      <th>3</th>\n",
       "      <td>4</td>\n",
       "      <td>2004-12-23</td>\n",
       "      <td>Sanbec</td>\n",
       "      <td>7,856.00</td>\n",
       "      <td>NaN</td>\n",
       "      <td>Sin información de origen ni de licencia. Hay ...</td>\n",
       "      <td>delete</td>\n",
       "      <td>delete</td>\n",
       "      <td>Archivo:Gnu head.png</td>\n",
       "    </tr>\n",
       "    <tr>\n",
       "      <th>4</th>\n",
       "      <td>5</td>\n",
       "      <td>2004-12-23</td>\n",
       "      <td>Sanbec</td>\n",
       "      <td>7,856.00</td>\n",
       "      <td>NaN</td>\n",
       "      <td>Sustituida por  [[commons:Image:Heckert_GNU.png]]</td>\n",
       "      <td>delete</td>\n",
       "      <td>delete</td>\n",
       "      <td>Archivo:Gnu-head-sm.jpg</td>\n",
       "    </tr>\n",
       "  </tbody>\n",
       "</table>\n",
       "</div>"
      ],
      "text/plain": [
       "   item_id   timestamp contributor_username       contributor_id  \\\n",
       "0        1  2004-12-23               Sabbut             2,075.00   \n",
       "1        2  2004-12-23               Sabbut             2,075.00   \n",
       "2        3  2004-12-23               Sabbut             2,075.00   \n",
       "3        4  2004-12-23               Sanbec             7,856.00   \n",
       "4        5  2004-12-23               Sanbec             7,856.00   \n",
       "\n",
       "  contributor_ip                                            comment logtype  \\\n",
       "0            NaN  el contenido era: 'Si aprendés Pensamiento Cie...  delete   \n",
       "1            NaN  el contenido era: '{{destruir}}en algun lugar ...  delete   \n",
       "2            NaN            el contenido era: '#REDIRECT [[Flash]]'  delete   \n",
       "3            NaN  Sin información de origen ni de licencia. Hay ...  delete   \n",
       "4            NaN  Sustituida por  [[commons:Image:Heckert_GNU.png]]  delete   \n",
       "\n",
       "   action                    title  \n",
       "0  delete         Verificacionismo  \n",
       "1  delete                 Rapunzel  \n",
       "2  delete         Macromedia Flash  \n",
       "3  delete     Archivo:Gnu head.png  \n",
       "4  delete  Archivo:Gnu-head-sm.jpg  "
      ]
     },
     "execution_count": 9,
     "metadata": {},
     "output_type": "execute_result"
    }
   ],
   "source": [
    "log.head()"
   ]
  },
  {
   "cell_type": "code",
   "execution_count": 10,
   "id": "498ca3fc",
   "metadata": {},
   "outputs": [],
   "source": [
    "#La paso a tipo de dato datetime\n",
    "log[\"timestamp\"]=pd.to_datetime(log[\"timestamp\"],format='%Y-%m-%d')"
   ]
  },
  {
   "cell_type": "code",
   "execution_count": 11,
   "id": "11a1539a",
   "metadata": {},
   "outputs": [
    {
     "name": "stdout",
     "output_type": "stream",
     "text": [
      "<class 'pandas.core.frame.DataFrame'>\n",
      "RangeIndex: 12188946 entries, 0 to 12188945\n",
      "Data columns (total 9 columns):\n",
      " #   Column                Dtype         \n",
      "---  ------                -----         \n",
      " 0   item_id               int64         \n",
      " 1   timestamp             datetime64[ns]\n",
      " 2   contributor_username  object        \n",
      " 3   contributor_id        float64       \n",
      " 4   contributor_ip        object        \n",
      " 5   comment               object        \n",
      " 6   logtype               object        \n",
      " 7   action                object        \n",
      " 8   title                 object        \n",
      "dtypes: datetime64[ns](1), float64(1), int64(1), object(6)\n",
      "memory usage: 836.9+ MB\n"
     ]
    }
   ],
   "source": [
    "#Verifico que se haya realizado correctamente el cambio de tipo de dato\n",
    "log.info()"
   ]
  },
  {
   "cell_type": "code",
   "execution_count": 12,
   "id": "6e46f5d8",
   "metadata": {},
   "outputs": [],
   "source": [
    "#Cuento las repeticiones de apariciones para ese dia\n",
    "mismo_dia = log[[\"item_id\",\"timestamp\"]].groupby(\"timestamp\").count()"
   ]
  },
  {
   "cell_type": "code",
   "execution_count": 13,
   "id": "70568fa4",
   "metadata": {},
   "outputs": [],
   "source": [
    "#Reinicio el indice\n",
    "mismo_dia = mismo_dia.reset_index()"
   ]
  },
  {
   "cell_type": "code",
   "execution_count": 14,
   "id": "70a8b0fd",
   "metadata": {},
   "outputs": [],
   "source": [
    "#Renombro la columna por la cual conte la cantidad de interacciones\n",
    "mismo_dia.rename(columns={'item_id': '#DeInteracciones'}, inplace=True)"
   ]
  },
  {
   "cell_type": "code",
   "execution_count": 15,
   "id": "53a52d47",
   "metadata": {},
   "outputs": [
    {
     "data": {
      "text/html": [
       "<div>\n",
       "<style scoped>\n",
       "    .dataframe tbody tr th:only-of-type {\n",
       "        vertical-align: middle;\n",
       "    }\n",
       "\n",
       "    .dataframe tbody tr th {\n",
       "        vertical-align: top;\n",
       "    }\n",
       "\n",
       "    .dataframe thead th {\n",
       "        text-align: right;\n",
       "    }\n",
       "</style>\n",
       "<table border=\"1\" class=\"dataframe\">\n",
       "  <thead>\n",
       "    <tr style=\"text-align: right;\">\n",
       "      <th></th>\n",
       "      <th>timestamp</th>\n",
       "      <th>#DeInteracciones</th>\n",
       "    </tr>\n",
       "  </thead>\n",
       "  <tbody>\n",
       "    <tr>\n",
       "      <th>0</th>\n",
       "      <td>2004-12-23</td>\n",
       "      <td>91</td>\n",
       "    </tr>\n",
       "    <tr>\n",
       "      <th>1</th>\n",
       "      <td>2004-12-24</td>\n",
       "      <td>36</td>\n",
       "    </tr>\n",
       "    <tr>\n",
       "      <th>2</th>\n",
       "      <td>2004-12-25</td>\n",
       "      <td>43</td>\n",
       "    </tr>\n",
       "    <tr>\n",
       "      <th>3</th>\n",
       "      <td>2004-12-26</td>\n",
       "      <td>45</td>\n",
       "    </tr>\n",
       "    <tr>\n",
       "      <th>4</th>\n",
       "      <td>2004-12-27</td>\n",
       "      <td>98</td>\n",
       "    </tr>\n",
       "  </tbody>\n",
       "</table>\n",
       "</div>"
      ],
      "text/plain": [
       "   timestamp  #DeInteracciones\n",
       "0 2004-12-23                91\n",
       "1 2004-12-24                36\n",
       "2 2004-12-25                43\n",
       "3 2004-12-26                45\n",
       "4 2004-12-27                98"
      ]
     },
     "execution_count": 15,
     "metadata": {},
     "output_type": "execute_result"
    }
   ],
   "source": [
    "mismo_dia.head()"
   ]
  },
  {
   "cell_type": "code",
   "execution_count": 16,
   "id": "e050fed6",
   "metadata": {},
   "outputs": [
    {
     "data": {
      "text/html": [
       "<div>\n",
       "<style scoped>\n",
       "    .dataframe tbody tr th:only-of-type {\n",
       "        vertical-align: middle;\n",
       "    }\n",
       "\n",
       "    .dataframe tbody tr th {\n",
       "        vertical-align: top;\n",
       "    }\n",
       "\n",
       "    .dataframe thead th {\n",
       "        text-align: right;\n",
       "    }\n",
       "</style>\n",
       "<table border=\"1\" class=\"dataframe\">\n",
       "  <thead>\n",
       "    <tr style=\"text-align: right;\">\n",
       "      <th></th>\n",
       "      <th>timestamp</th>\n",
       "      <th>#DeInteracciones</th>\n",
       "    </tr>\n",
       "  </thead>\n",
       "  <tbody>\n",
       "    <tr>\n",
       "      <th>3769</th>\n",
       "      <td>2015-04-19</td>\n",
       "      <td>390863</td>\n",
       "    </tr>\n",
       "  </tbody>\n",
       "</table>\n",
       "</div>"
      ],
      "text/plain": [
       "      timestamp  #DeInteracciones\n",
       "3769 2015-04-19            390863"
      ]
     },
     "execution_count": 16,
     "metadata": {},
     "output_type": "execute_result"
    }
   ],
   "source": [
    "mismo_dia[mismo_dia[\"#DeInteracciones\"]==mismo_dia[\"#DeInteracciones\"].max()]"
   ]
  },
  {
   "cell_type": "code",
   "execution_count": 17,
   "id": "932fff8b",
   "metadata": {},
   "outputs": [
    {
     "data": {
      "text/html": [
       "<div>\n",
       "<style scoped>\n",
       "    .dataframe tbody tr th:only-of-type {\n",
       "        vertical-align: middle;\n",
       "    }\n",
       "\n",
       "    .dataframe tbody tr th {\n",
       "        vertical-align: top;\n",
       "    }\n",
       "\n",
       "    .dataframe thead th {\n",
       "        text-align: right;\n",
       "    }\n",
       "</style>\n",
       "<table border=\"1\" class=\"dataframe\">\n",
       "  <thead>\n",
       "    <tr style=\"text-align: right;\">\n",
       "      <th></th>\n",
       "      <th>timestamp</th>\n",
       "      <th>#DeInteracciones</th>\n",
       "    </tr>\n",
       "  </thead>\n",
       "  <tbody>\n",
       "    <tr>\n",
       "      <th>61</th>\n",
       "      <td>2005-02-22</td>\n",
       "      <td>4</td>\n",
       "    </tr>\n",
       "  </tbody>\n",
       "</table>\n",
       "</div>"
      ],
      "text/plain": [
       "    timestamp  #DeInteracciones\n",
       "61 2005-02-22                 4"
      ]
     },
     "execution_count": 17,
     "metadata": {},
     "output_type": "execute_result"
    }
   ],
   "source": [
    "mismo_dia[mismo_dia[\"#DeInteracciones\"]==mismo_dia[\"#DeInteracciones\"].min()]"
   ]
  },
  {
   "cell_type": "code",
   "execution_count": 18,
   "id": "c788bac6",
   "metadata": {},
   "outputs": [
    {
     "data": {
      "text/html": [
       "<div>\n",
       "<style scoped>\n",
       "    .dataframe tbody tr th:only-of-type {\n",
       "        vertical-align: middle;\n",
       "    }\n",
       "\n",
       "    .dataframe tbody tr th {\n",
       "        vertical-align: top;\n",
       "    }\n",
       "\n",
       "    .dataframe thead th {\n",
       "        text-align: right;\n",
       "    }\n",
       "</style>\n",
       "<table border=\"1\" class=\"dataframe\">\n",
       "  <thead>\n",
       "    <tr style=\"text-align: right;\">\n",
       "      <th></th>\n",
       "      <th>babel_user</th>\n",
       "      <th>babel_lang</th>\n",
       "      <th>babel_level</th>\n",
       "    </tr>\n",
       "  </thead>\n",
       "  <tbody>\n",
       "    <tr>\n",
       "      <th>0</th>\n",
       "      <td>4502458</td>\n",
       "      <td>FR</td>\n",
       "      <td>2</td>\n",
       "    </tr>\n",
       "    <tr>\n",
       "      <th>1</th>\n",
       "      <td>5928200</td>\n",
       "      <td>aa</td>\n",
       "      <td>0</td>\n",
       "    </tr>\n",
       "    <tr>\n",
       "      <th>2</th>\n",
       "      <td>46918</td>\n",
       "      <td>ab</td>\n",
       "      <td>0</td>\n",
       "    </tr>\n",
       "    <tr>\n",
       "      <th>3</th>\n",
       "      <td>2050449</td>\n",
       "      <td>ab</td>\n",
       "      <td>1</td>\n",
       "    </tr>\n",
       "    <tr>\n",
       "      <th>4</th>\n",
       "      <td>4715583</td>\n",
       "      <td>ace</td>\n",
       "      <td>0</td>\n",
       "    </tr>\n",
       "  </tbody>\n",
       "</table>\n",
       "</div>"
      ],
      "text/plain": [
       "   babel_user babel_lang babel_level\n",
       "0     4502458         FR           2\n",
       "1     5928200         aa           0\n",
       "2       46918         ab           0\n",
       "3     2050449         ab           1\n",
       "4     4715583        ace           0"
      ]
     },
     "execution_count": 18,
     "metadata": {},
     "output_type": "execute_result"
    }
   ],
   "source": [
    "languages.head()"
   ]
  },
  {
   "cell_type": "code",
   "execution_count": null,
   "id": "73bed56c",
   "metadata": {},
   "outputs": [],
   "source": []
  }
 ],
 "metadata": {
  "kernelspec": {
   "display_name": "Python 3",
   "language": "python",
   "name": "python3"
  },
  "language_info": {
   "codemirror_mode": {
    "name": "ipython",
    "version": 3
   },
   "file_extension": ".py",
   "mimetype": "text/x-python",
   "name": "python",
   "nbconvert_exporter": "python",
   "pygments_lexer": "ipython3",
   "version": "3.8.8"
  }
 },
 "nbformat": 4,
 "nbformat_minor": 5
}
